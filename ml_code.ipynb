{
 "cells": [
  {
   "cell_type": "markdown",
   "id": "788d0d8c",
   "metadata": {},
   "source": [
    "# Dataset Information \n",
    "\n",
    "A small classic dataset from Fisher, 1936. One of the earliest known datasets used for evaluating classification methods.\n",
    "\n",
    "**Data Characteristics** : Tabular\n",
    "**Subject Area **: Biology\n",
    "**Associated Task **: Classification\n",
    "**Feature Type** : Real\n",
    "**Instance** : 150\n",
    "**Features** : 4\n",
    "\n",
    "`What do the instance in this dataset represents ?`\n",
    "Answer: Each instracne is a plant\n",
    "\n",
    "`Addional Information`\n",
    "Answer: This is one of the earliest datasets used in the literature on classification methods and widely used in statistics and machine learning.  The data set contains 3 classes of 50 instances each, where each class refers to a type of iris plant.  One class is linearly separable from the other 2; the latter are not linearly separable from each other.\n",
    "\n",
    "Predicted attribute: class of iris plant.\n",
    "\n",
    "This is an exceedingly simple domain.\n",
    "\n",
    "This data differs from the data presented in Fishers article (identified by Steve Chadwick,  spchadwick@espeedaz.net ).  The 35th sample should be: 4.9,3.1,1.5,0.2,\"Iris-setosa\" where the error is in the fourth feature. The 38th sample: 4.9,3.6,1.4,0.1,\"Iris-setosa\" where the errors are in the second and third features.  \n",
    "\n",
    "``Has Missing Value?``\n",
    "Answer: No"
   ]
  },
  {
   "cell_type": "code",
   "execution_count": null,
   "id": "b4788a17",
   "metadata": {},
   "outputs": [],
   "source": []
  }
 ],
 "metadata": {
  "kernelspec": {
   "display_name": ".venv",
   "language": "python",
   "name": "python3"
  },
  "language_info": {
   "codemirror_mode": {
    "name": "ipython",
    "version": 3
   },
   "file_extension": ".py",
   "mimetype": "text/x-python",
   "name": "python",
   "nbconvert_exporter": "python",
   "pygments_lexer": "ipython3",
   "version": "3.12.11"
  }
 },
 "nbformat": 4,
 "nbformat_minor": 5
}
